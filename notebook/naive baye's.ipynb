{
 "cells": [
  {
   "cell_type": "markdown",
   "id": "d3a82cac-4795-4a01-a337-4a64dfdd6922",
   "metadata": {},
   "source": [
    "# Naive Baye's Classifier"
   ]
  },
  {
   "cell_type": "markdown",
   "id": "15530bfd-beae-4231-a82c-40ec5ef17ead",
   "metadata": {},
   "source": [
    "The Naïve Bayes Classifier is a simple yet powerful probabilistic classifier based on Bayes' theorem. It assumes that the features used for classification are independent of each other (a \"naïve\" assumption), which simplifies computations significantly. Despite its simplicity, it performs well for tasks like text classification, spam detection, and sentiment analysis."
   ]
  },
  {
   "cell_type": "markdown",
   "id": "d6f2dd42-9554-49d3-a430-8c809a56657d",
   "metadata": {},
   "source": [
    "$$\n",
    "P(C|X) = \\frac{P(X|C)P(C)}{P(X)}\n",
    "$$"
   ]
  },
  {
   "cell_type": "markdown",
   "id": "8d816359-601c-4473-a793-fef6a21bea24",
   "metadata": {},
   "source": [
    "Where:\n",
    "\n",
    "- \\( P(C|X) \\): Posterior probability of class \\( C \\) given the input \\( X \\).\n",
    "- \\( P(X|C) \\): Likelihood of the input \\( X \\) given the class \\( C \\).\n",
    "- \\( P(C) \\): Prior probability of the class \\( C \\).\n",
    "- \\( P(X) \\): Probability of the input \\( X \\) (acts as a normalizing constant)."
   ]
  },
  {
   "cell_type": "markdown",
   "id": "21d52b7e-7ac2-4311-8add-937a5eb58139",
   "metadata": {},
   "source": [
    "Key Points:\n",
    "- Advantages: Computationally efficient, works well with small datasets, handles categorical and continuous data.\n",
    "- Limitations: Assumes feature independence, which may not hold in real-world scenarios."
   ]
  },
  {
   "cell_type": "markdown",
   "id": "ddd8d855-bea9-4df2-8062-43d18820e7f3",
   "metadata": {},
   "source": [
    "Naïve Bayes classifiers come in several variations, depending on the type of data and how probabilities are modeled. Here are descriptions of the three common types:"
   ]
  },
  {
   "cell_type": "markdown",
   "id": "7eb83c39-7bd9-409d-bbf9-a790fe1acd55",
   "metadata": {},
   "source": [
    "### Bernoulli Naïve Bayes\n",
    "- Description: Assumes that the features are binary (e.g., 0 or 1), representing the presence or absence of a feature.\n",
    "- How It Works: Models data as following a Bernoulli distribution.\n",
    "- Applications:\n",
    "    - Text classification: Spam detection, sentiment analysis.\n",
    "    - Binary feature datasets: Any case where features are either present or absent."
   ]
  },
  {
   "cell_type": "markdown",
   "id": "a7fb2b50-2a4f-4274-a1b7-420d3122b735",
   "metadata": {},
   "source": [
    "### Multinomial Naïve Bayes\n",
    "- Description: Assumes features represent counts or frequencies (e.g., word counts in documents).\n",
    "- How It Works: Models data as following a multinomial distribution.\n",
    "- Applications:\n",
    "    - Document classification: News categorization, topic modeling.\n",
    "    - Bag-of-words models: Where feature values represent counts or frequencies."
   ]
  },
  {
   "cell_type": "markdown",
   "id": "e43cec02-81c7-4d36-9526-fa5bfc66a0b9",
   "metadata": {},
   "source": [
    "### Gaussian Naïve Bayes\n",
    "- Description: Assumes that the features are continuous and follow a Gaussian (normal) distribution.\n",
    "- How It Works: Fits a normal distribution to the data for each feature-class pair.\n",
    "- Applications:\n",
    "    - Continuous data: Medical diagnosis, image classification.\n",
    "    - Sensor data: When measurements are continuous and roughly normally distributed."
   ]
  }
 ],
 "metadata": {
  "kernelspec": {
   "display_name": "Python 3 (ipykernel)",
   "language": "python",
   "name": "python3"
  },
  "language_info": {
   "codemirror_mode": {
    "name": "ipython",
    "version": 3
   },
   "file_extension": ".py",
   "mimetype": "text/x-python",
   "name": "python",
   "nbconvert_exporter": "python",
   "pygments_lexer": "ipython3",
   "version": "3.12.5"
  }
 },
 "nbformat": 4,
 "nbformat_minor": 5
}
